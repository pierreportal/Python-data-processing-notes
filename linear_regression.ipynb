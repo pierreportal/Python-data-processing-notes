{
 "cells": [
  {
   "cell_type": "markdown",
   "metadata": {},
   "source": [
    "# Linear Regression\n",
    "y = mx + b\n",
    "\n",
    "For our example, let's create the data set where y is mx + b.\n",
    "\n",
    "x will be a random normal distribution of N = 200 with a standard deviation σ (sigma) of 1 around a mean value μ (mu) of 5. Standard deviation 'σ' is the value expressing by how much the members of a group differ from the mean of the group.\n",
    "\n",
    "The slope 'm' will be 3 and the intercept 'b' will be 60."
   ]
  },
  {
   "cell_type": "code",
   "execution_count": 1,
   "metadata": {},
   "outputs": [],
   "source": [
    "import numpy as np\n",
    "\n",
    "x = np.random.normal(5.0,1.0,200) # normal distribution(mean, std. deviation, N)\n",
    "m = 3\n",
    "b = 60\n",
    "y = m * (x + np.random.normal(0,0.2,200)) + b # add a std. deviation to get a more realistic data set"
   ]
  },
  {
   "cell_type": "markdown",
   "metadata": {},
   "source": [
    "Normal distribution or 'Gaussian':"
   ]
  },
  {
   "cell_type": "code",
   "execution_count": 2,
   "metadata": {},
   "outputs": [
    {
     "data": {
      "image/png": "[encoded data removed]",
      "text/plain": [
       "<matplotlib.figure.Figure at 0x10cca22e8>"
      ]
     },
     "metadata": {},
     "output_type": "display_data"
    }
   ],
   "source": [
    "import matplotlib.pyplot as plt\n",
    "\n",
    "plt.hist(x,50)\n",
    "plt.show()"
   ]
  },
  {
   "cell_type": "markdown",
   "metadata": {},
   "source": [
    "We can see above how the data is spreaded around the mean value by our normal distribution."
   ]
  },
  {
   "cell_type": "markdown",
   "metadata": {},
   "source": [
    "Let's visualize our data."
   ]
  },
  {
   "cell_type": "code",
   "execution_count": 3,
   "metadata": {
    "scrolled": true
   },
   "outputs": [
    {
     "data": {
      "image/png": "[encoded data removed]",
      "text/plain": [
       "<matplotlib.figure.Figure at 0x10cca2208>"
      ]
     },
     "metadata": {},
     "output_type": "display_data"
    }
   ],
   "source": [
    "plt.scatter(x,y)\n",
    "plt.show()"
   ]
  },
  {
   "cell_type": "markdown",
   "metadata": {},
   "source": [
    "## stats.linregress( )\n",
    "Will give us the value of m and b, the r_value is used to determine how well our line is fitting the data. r-squared will give us a value between 0 and 1, from bad to good fit."
   ]
  },
  {
   "cell_type": "code",
   "execution_count": 4,
   "metadata": {
    "scrolled": true
   },
   "outputs": [
    {
     "name": "stdout",
     "output_type": "stream",
     "text": [
      "Slope:  2.98104902278 \n",
      "Intercept:  60.1146144847\n"
     ]
    }
   ],
   "source": [
    "from scipy import stats\n",
    "\n",
    "slope, intercept, r_value, p_value, std_err = stats.linregress(x,y)\n",
    "\n",
    "print('Slope: ',slope,\n",
    "      '\\nIntercept: ',intercept)"
   ]
  },
  {
   "cell_type": "markdown",
   "metadata": {},
   "source": [
    "## r-squared : "
   ]
  },
  {
   "cell_type": "code",
   "execution_count": 5,
   "metadata": {},
   "outputs": [
    {
     "data": {
      "text/plain": [
       "0.96018831950537364"
      ]
     },
     "execution_count": 5,
     "metadata": {},
     "output_type": "execute_result"
    }
   ],
   "source": [
    "r_value**2"
   ]
  },
  {
   "cell_type": "code",
   "execution_count": 6,
   "metadata": {
    "scrolled": true
   },
   "outputs": [
    {
     "data": {
      "image/png": "[encoded data removed]",
      "text/plain": [
       "<matplotlib.figure.Figure at 0x1918adbcc0>"
      ]
     },
     "metadata": {},
     "output_type": "display_data"
    }
   ],
   "source": [
    "def predict_y_for(x):\n",
    "    return slope * x + intercept\n",
    "\n",
    "plt.scatter(x,y)\n",
    "plt.plot(x, predict_y_for(x), c='r')\n",
    "plt.show()"
   ]
  },
  {
   "cell_type": "markdown",
   "metadata": {},
   "source": [
    "## Variance and Standard deviation"
   ]
  },
  {
   "cell_type": "markdown",
   "metadata": {},
   "source": [
    "Get the mean and standard deviation with Numpy"
   ]
  },
  {
   "cell_type": "code",
   "execution_count": 7,
   "metadata": {},
   "outputs": [
    {
     "name": "stdout",
     "output_type": "stream",
     "text": [
      "Mean:  5.04321665207 \n",
      "Standard deviation:  0.972660025762\n"
     ]
    }
   ],
   "source": [
    "print('Mean: ',np.mean(x),'\\nStandard deviation: ',np.std(x))"
   ]
  },
  {
   "cell_type": "markdown",
   "metadata": {},
   "source": [
    "The variance (σ^2) is the average of the squared differencies from the mean.\n",
    "\n",
    "We can find the standard deviation (σ) with the square root of our variance. "
   ]
  },
  {
   "cell_type": "code",
   "execution_count": 8,
   "metadata": {},
   "outputs": [
    {
     "name": "stdout",
     "output_type": "stream",
     "text": [
      "Mean:  5.04321665207\n"
     ]
    }
   ],
   "source": [
    "N = len(x)\n",
    "sum_of_n = 0\n",
    "for n in x:\n",
    "    sum_of_n += n\n",
    "mu = sum_of_n/N\n",
    "\n",
    "print('Mean: ',mu)"
   ]
  },
  {
   "cell_type": "code",
   "execution_count": 9,
   "metadata": {
    "scrolled": true
   },
   "outputs": [
    {
     "name": "stdout",
     "output_type": "stream",
     "text": [
      "Standard deviation:  0.9726600257624177\n"
     ]
    }
   ],
   "source": [
    "from math import sqrt\n",
    "\n",
    "def calc_std_dev(x):\n",
    "    N = len(x)\n",
    "    v = 0\n",
    "    for n in x:\n",
    "        v += ((n-mu)**2)\n",
    "    pop_variance = v/N\n",
    "    sigma = sqrt(pop_variance)\n",
    "\n",
    "    return sigma\n",
    "\n",
    "print('Standard deviation: ',calc_std_dev(x))"
   ]
  },
  {
   "cell_type": "markdown",
   "metadata": {},
   "source": [
    "## N or N-1, population or sample\n",
    "\n",
    "The population variance σ^2, or the average of squared differencies is defined by dividing the sum of squared differences by N when N = len(population).\n",
    "\n",
    "σ² = ∑ (x-μ)² / N\n",
    "\n",
    "The sample variance S^2 is defined by dividing the sum of squared differences by N-1, when N = len(sample), for example when working on a train set of data.\n",
    "\n",
    "S² = ∑ (x-μ)² / N-1\n"
   ]
  }
 ],
 "metadata": {
  "kernelspec": {
   "display_name": "Python 3",
   "language": "python",
   "name": "python3"
  },
  "language_info": {
   "codemirror_mode": {
    "name": "ipython",
    "version": 3
   },
   "file_extension": ".py",
   "mimetype": "text/x-python",
   "name": "python",
   "nbconvert_exporter": "python",
   "pygments_lexer": "ipython3",
   "version": "3.6.3"
  }
 },
 "nbformat": 4,
 "nbformat_minor": 2
}
